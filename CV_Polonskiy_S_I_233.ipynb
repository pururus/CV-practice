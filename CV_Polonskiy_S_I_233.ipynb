{
  "cells": [
    {
      "cell_type": "code",
      "execution_count": null,
      "metadata": {
        "id": "pVBiGhMfc6ws"
      },
      "outputs": [],
      "source": [
        "import numpy as np\n",
        "from tqdm import tqdm_notebook\n",
        "import matplotlib.pyplot as plt\n",
        "%matplotlib inline\n",
        "\n",
        "import torch, torchvision\n",
        "from torchvision import datasets, transforms\n",
        "\n",
        "from sklearn.metrics import accuracy_score\n",
        "\n",
        "from sklearn.model_selection import train_test_split"
      ]
    },
    {
      "cell_type": "code",
      "execution_count": null,
      "metadata": {
        "colab": {
          "base_uri": "https://localhost:8080/"
        },
        "id": "kwBf3BRwdYwH",
        "outputId": "4ceb3dea-7b59-4383-c47d-a087193a916a"
      },
      "outputs": [
        {
          "data": {
            "text/plain": [
              "<torch._C.Generator at 0x7ce671774a50>"
            ]
          },
          "execution_count": 2,
          "metadata": {},
          "output_type": "execute_result"
        }
      ],
      "source": [
        "torch.manual_seed(69)"
      ]
    },
    {
      "cell_type": "code",
      "execution_count": null,
      "metadata": {
        "colab": {
          "base_uri": "https://localhost:8080/"
        },
        "id": "sP7jNecmdZnt",
        "outputId": "9c57e78c-990e-41c7-e623-0a471bafe263"
      },
      "outputs": [
        {
          "name": "stdout",
          "output_type": "stream",
          "text": [
            "Downloading https://www.cs.toronto.edu/~kriz/cifar-10-python.tar.gz to ./data/cifar-10-python.tar.gz\n"
          ]
        },
        {
          "name": "stderr",
          "output_type": "stream",
          "text": [
            "100%|██████████| 170498071/170498071 [00:04<00:00, 34172778.08it/s]\n"
          ]
        },
        {
          "name": "stdout",
          "output_type": "stream",
          "text": [
            "Extracting ./data/cifar-10-python.tar.gz to ./data\n",
            "Files already downloaded and verified\n"
          ]
        }
      ],
      "source": [
        "train_data = datasets.CIFAR10(root='./data', train=True, download=True, transform=transforms.ToTensor())\n",
        "train_data, valid_data = train_test_split(train_data, test_size=0.1)\n",
        "test_data = datasets.CIFAR10(root='./data', train=False, download=True, transform=transforms.ToTensor())"
      ]
    },
    {
      "cell_type": "code",
      "execution_count": null,
      "metadata": {
        "id": "N7yfj5kadbn3"
      },
      "outputs": [],
      "source": [
        "train_loader = torch.utils.data.DataLoader(train_data, batch_size=8, shuffle=True)\n",
        "valid_loader = torch.utils.data.DataLoader(valid_data, batch_size=8, shuffle=True)\n",
        "test_loader = torch.utils.data.DataLoader(test_data, batch_size=8, shuffle=True)"
      ]
    },
    {
      "cell_type": "code",
      "execution_count": null,
      "metadata": {
        "id": "CqIjW3k6dfBD"
      },
      "outputs": [],
      "source": [
        "train_dataiter = iter(train_loader)\n",
        "test_dataiter = iter(test_loader)\n"
      ]
    },
    {
      "cell_type": "code",
      "execution_count": null,
      "metadata": {
        "id": "5Q0EMhZOdhRW"
      },
      "outputs": [],
      "source": [
        "imgs, labels = next(train_dataiter)"
      ]
    },
    {
      "cell_type": "code",
      "execution_count": null,
      "metadata": {
        "id": "BYTFR3tEdh_f"
      },
      "outputs": [],
      "source": [
        "label_to_name = {\n",
        "    0: \"Самолет\",\n",
        "    1: \"Авто\",\n",
        "    2: \"Птица\",\n",
        "    3: \"Кот\",\n",
        "    4: \"Олень\",\n",
        "    5: \"Собака\",\n",
        "    6: \"Лягушка\",\n",
        "    7: \"Лошадь\",\n",
        "    8: \"Корабль\",\n",
        "    9: \"Грузовик\"\n",
        "}"
      ]
    },
    {
      "cell_type": "code",
      "execution_count": null,
      "metadata": {
        "id": "cfnHLkqRdmDX"
      },
      "outputs": [],
      "source": [
        "def show(imgs, labels):\n",
        "  f, axes = plt.subplots(1, 8, figsize=(30, 30))\n",
        "  for i, axis in enumerate(axes):\n",
        "    axes[i].imshow(np.squeeze(np.transpose(imgs[i].numpy(), (1, 2, 0))), cmap='gray')\n",
        "    axes[i].set_title(label_to_name[int(labels[i].numpy())])\n",
        "  plt.show()\n"
      ]
    },
    {
      "cell_type": "code",
      "execution_count": null,
      "metadata": {
        "colab": {
          "base_uri": "https://localhost:8080/",
          "height": 185
        },
        "id": "qjD-OKlidm5a",
        "outputId": "fac7c641-58c9-4b36-86e5-ddf8273575c2"
      },
      "outputs": [
        {
          "data": {
            "image/png": "[encoded data removed]",
            "text/plain": [
              "<Figure size 3000x3000 with 8 Axes>"
            ]
          },
          "metadata": {},
          "output_type": "display_data"
        }
      ],
      "source": [
        "show(imgs, labels)"
      ]
    },
    {
      "cell_type": "code",
      "execution_count": null,
      "metadata": {
        "id": "1ZUIuIFudpV3"
      },
      "outputs": [],
      "source": [
        "import torch.nn as nn\n",
        "import torch.nn.functional as F"
      ]
    },
    {
      "cell_type": "code",
      "execution_count": null,
      "metadata": {
        "colab": {
          "base_uri": "https://localhost:8080/",
          "height": 35
        },
        "id": "sdS_sJnTdsT7",
        "outputId": "b0fc8c2b-6105-40cc-d02c-87683052dbe5"
      },
      "outputs": [
        {
          "data": {
            "application/vnd.google.colaboratory.intrinsic+json": {
              "type": "string"
            },
            "text/plain": [
              "'cuda'"
            ]
          },
          "execution_count": 11,
          "metadata": {},
          "output_type": "execute_result"
        }
      ],
      "source": [
        "device = 'cuda' if torch.cuda.is_available() else 'cpu'\n",
        "device"
      ]
    },
    {
      "cell_type": "code",
      "execution_count": null,
      "metadata": {
        "id": "efvzB7qNdv_i"
      },
      "outputs": [],
      "source": [
        "class ToVect(nn.Module):\n",
        "  def forward(self, img):\n",
        "    return img.view(img.size(0), -1)"
      ]
    },
    {
      "cell_type": "markdown",
      "metadata": {
        "id": "v9IS8mt6kvWI"
      },
      "source": [
        "Рассмотрим несколько вариантов упрощенной архитектуры перед тем, как усложнить и доучить ее"
      ]
    },
    {
      "cell_type": "code",
      "execution_count": null,
      "metadata": {
        "id": "AEndyXgHdxC5"
      },
      "outputs": [],
      "source": [
        "ks = 3\n",
        "cc = 2\n",
        "\n",
        "class CNN(nn.Module): #один пулинг\n",
        "    def __init__(self, num_classes=10):\n",
        "        super(CNN, self).__init__()\n",
        "        self.layer1 = nn.Sequential(\n",
        "            nn.Conv2d(3, 20, kernel_size=3, stride=1, padding=1),\n",
        "            nn.BatchNorm2d(20),\n",
        "            nn.ReLU())\n",
        "        self.layer2 = nn.Sequential(\n",
        "            nn.Conv2d(20, 20, kernel_size=3, stride=1, padding=1),\n",
        "            nn.BatchNorm2d(20),\n",
        "            nn.ReLU(),\n",
        "            nn.MaxPool2d(kernel_size = 2, stride = 2))\n",
        "        self.layer3 = nn.Sequential(\n",
        "            nn.Conv2d(20, 40, kernel_size=3, stride=1, padding=1),\n",
        "            nn.BatchNorm2d(40),\n",
        "            nn.ReLU())\n",
        "        self.layer4 = nn.Sequential(\n",
        "            nn.Conv2d(40, 40, kernel_size=3, stride=1, padding=1),\n",
        "            nn.BatchNorm2d(40),\n",
        "            nn.ReLU(),\n",
        "            # nn.MaxPool2d(kernel_size = 2, stride = 2)\n",
        "            )\n",
        "        self.layer5 = nn.Sequential(\n",
        "            nn.Conv2d(40, 40, kernel_size=3, stride=1, padding=1),\n",
        "            nn.BatchNorm2d(40),\n",
        "            nn.ReLU())\n",
        "        self.layer6 = nn.Sequential(\n",
        "            nn.Conv2d(40, 40, kernel_size=3, stride=1, padding=1),\n",
        "            nn.BatchNorm2d(40),\n",
        "            nn.ReLU())\n",
        "        self.layer7 = nn.Sequential(\n",
        "            nn.Sequential(\n",
        "            nn.Conv2d(40, 40, kernel_size=3, stride=1, padding=1),\n",
        "            nn.BatchNorm2d(40),\n",
        "            nn.ReLU()),\n",
        "\n",
        "            nn.Sequential(\n",
        "            nn.Conv2d(40, 40, kernel_size=3, stride=1, padding=1),\n",
        "            nn.BatchNorm2d(40),\n",
        "            nn.ReLU()),\n",
        "\n",
        "            # nn.Sequential(\n",
        "            # nn.Conv2d(40, 40, kernel_size=3, stride=1, padding=1),\n",
        "            # nn.BatchNorm2d(40),\n",
        "            # nn.ReLU())\n",
        "        )\n",
        "        self.tovect = ToVect()\n",
        "        self.fc = nn.Sequential(\n",
        "            nn.Dropout(0.5),\n",
        "            nn.Linear(10240, 1000),\n",
        "            nn.ReLU())\n",
        "        self.fc1 = nn.Sequential(\n",
        "            nn.Dropout(0.5),\n",
        "            nn.Linear(1000, 100),\n",
        "            nn.ReLU())\n",
        "        self.fc2= nn.Sequential(\n",
        "            nn.Linear(100, num_classes))\n",
        "\n",
        "    def forward(self, x):\n",
        "        out = self.layer1(x).to(device)\n",
        "        out = self.layer2(out)\n",
        "        out = self.layer3(out)\n",
        "        out = self.layer4(out)\n",
        "        out = self.layer5(out)\n",
        "        out = self.layer6(out)\n",
        "        out = self.layer7(out)\n",
        "        out = self.tovect(out)\n",
        "        out = self.fc(out)\n",
        "        out = self.fc1(out)\n",
        "        out = self.fc2(out)\n",
        "        return out"
      ]
    },
    {
      "cell_type": "code",
      "execution_count": null,
      "metadata": {
        "id": "NJTLzIFBdzcr"
      },
      "outputs": [],
      "source": [
        "ks = 3\n",
        "cc = 2\n",
        "\n",
        "class CNN2(nn.Module): #два пулинга\n",
        "    def __init__(self, num_classes=10):\n",
        "        super(CNN2, self).__init__()\n",
        "        self.layer1 = nn.Sequential(\n",
        "            nn.Conv2d(3, 20, kernel_size=3, stride=1, padding=1),\n",
        "            nn.BatchNorm2d(20),\n",
        "            nn.ReLU())\n",
        "        self.layer2 = nn.Sequential(\n",
        "            nn.Conv2d(20, 20, kernel_size=3, stride=1, padding=1),\n",
        "            nn.BatchNorm2d(20),\n",
        "            nn.ReLU(),\n",
        "            nn.MaxPool2d(kernel_size = 2, stride = 2))\n",
        "        self.layer3 = nn.Sequential(\n",
        "            nn.Conv2d(20, 40, kernel_size=3, stride=1, padding=1),\n",
        "            nn.BatchNorm2d(40),\n",
        "            nn.ReLU())\n",
        "        self.layer4 = nn.Sequential(\n",
        "            nn.Conv2d(40, 40, kernel_size=3, stride=1, padding=1),\n",
        "            nn.BatchNorm2d(40),\n",
        "            nn.ReLU(),\n",
        "            nn.MaxPool2d(kernel_size = 2, stride = 2)\n",
        "            )\n",
        "        self.layer5 = nn.Sequential(\n",
        "            nn.Conv2d(40, 40, kernel_size=3, stride=1, padding=1),\n",
        "            nn.BatchNorm2d(40),\n",
        "            nn.ReLU())\n",
        "        self.layer6 = nn.Sequential(\n",
        "            nn.Conv2d(40, 40, kernel_size=3, stride=1, padding=1),\n",
        "            nn.BatchNorm2d(40),\n",
        "            nn.ReLU())\n",
        "        self.layer7 = nn.Sequential(\n",
        "            nn.Sequential(\n",
        "            nn.Conv2d(40, 40, kernel_size=3, stride=1, padding=1),\n",
        "            nn.BatchNorm2d(40),\n",
        "            nn.ReLU()),\n",
        "\n",
        "            nn.Sequential(\n",
        "            nn.Conv2d(40, 40, kernel_size=3, stride=1, padding=1),\n",
        "            nn.BatchNorm2d(40),\n",
        "            nn.ReLU()),\n",
        "\n",
        "            # nn.Sequential(\n",
        "            # nn.Conv2d(40, 40, kernel_size=3, stride=1, padding=1),\n",
        "            # nn.BatchNorm2d(40),\n",
        "            # nn.ReLU())\n",
        "        )\n",
        "        self.tovect = ToVect()\n",
        "        self.fc = nn.Sequential(\n",
        "            nn.Dropout(0.5),\n",
        "            nn.Linear(2560, 1000),\n",
        "            nn.ReLU())\n",
        "        self.fc1 = nn.Sequential(\n",
        "            nn.Dropout(0.5),\n",
        "            nn.Linear(1000, 100),\n",
        "            nn.ReLU())\n",
        "        self.fc2= nn.Sequential(\n",
        "            nn.Linear(100, num_classes))\n",
        "\n",
        "    def forward(self, x):\n",
        "        out = self.layer1(x).to(device)\n",
        "        out = self.layer2(out)\n",
        "        out = self.layer3(out)\n",
        "        out = self.layer4(out)\n",
        "        out = self.layer5(out)\n",
        "        out = self.layer6(out)\n",
        "        out = self.layer7(out)\n",
        "        out = self.tovect(out)\n",
        "        out = self.fc(out)\n",
        "        out = self.fc1(out)\n",
        "        out = self.fc2(out)\n",
        "        return out"
      ]
    },
    {
      "cell_type": "code",
      "execution_count": null,
      "metadata": {
        "id": "e50z4p2Jd1dc"
      },
      "outputs": [],
      "source": [
        "ks = 3\n",
        "cc = 2\n",
        "\n",
        "class CNN3(nn.Module):#три пулинга\n",
        "    def __init__(self, num_classes=10):\n",
        "        super(CNN3, self).__init__()\n",
        "        self.layer1 = nn.Sequential(\n",
        "            nn.Conv2d(3, 20, kernel_size=3, stride=1, padding=1),\n",
        "            nn.BatchNorm2d(20),\n",
        "            nn.ReLU())\n",
        "        self.layer2 = nn.Sequential(\n",
        "            nn.Conv2d(20, 20, kernel_size=3, stride=1, padding=1),\n",
        "            nn.BatchNorm2d(20),\n",
        "            nn.ReLU(),\n",
        "            nn.MaxPool2d(kernel_size = 2, stride = 2))\n",
        "        self.layer3 = nn.Sequential(\n",
        "            nn.Conv2d(20, 40, kernel_size=3, stride=1, padding=1),\n",
        "            nn.BatchNorm2d(40),\n",
        "            nn.ReLU())\n",
        "        self.layer4 = nn.Sequential(\n",
        "            nn.Conv2d(40, 40, kernel_size=3, stride=1, padding=1),\n",
        "            nn.BatchNorm2d(40),\n",
        "            nn.ReLU(),\n",
        "            nn.MaxPool2d(kernel_size = 2, stride = 2)\n",
        "            )\n",
        "        self.layer5 = nn.Sequential(\n",
        "            nn.Conv2d(40, 80, kernel_size=3, stride=1, padding=1),\n",
        "            nn.BatchNorm2d(80),\n",
        "            nn.ReLU())\n",
        "        self.layer6 = nn.Sequential(\n",
        "            nn.Conv2d(80, 80, kernel_size=3, stride=1, padding=1),\n",
        "            nn.BatchNorm2d(80),\n",
        "            nn.ReLU(),\n",
        "            nn.MaxPool2d(kernel_size = 2, stride = 2))\n",
        "        self.layer7 = nn.Sequential(\n",
        "            nn.Sequential(\n",
        "            nn.Conv2d(80, 80, kernel_size=3, stride=1, padding=1),\n",
        "            nn.BatchNorm2d(80),\n",
        "            nn.ReLU()),\n",
        "\n",
        "            nn.Sequential(\n",
        "            nn.Conv2d(80, 80, kernel_size=3, stride=1, padding=1),\n",
        "            nn.BatchNorm2d(80),\n",
        "            nn.ReLU()),\n",
        "\n",
        "            # nn.Sequential(\n",
        "            # nn.Conv2d(40, 40, kernel_size=3, stride=1, padding=1),\n",
        "            # nn.BatchNorm2d(40),\n",
        "            # nn.ReLU())\n",
        "        )\n",
        "        self.tovect = ToVect()\n",
        "        self.fc = nn.Sequential(\n",
        "            nn.Dropout(0.5),\n",
        "            nn.Linear(1280, 1000),\n",
        "            nn.ReLU())\n",
        "        self.fc1 = nn.Sequential(\n",
        "            nn.Dropout(0.5),\n",
        "            nn.Linear(1000, 100),\n",
        "            nn.ReLU())\n",
        "        self.fc2= nn.Sequential(\n",
        "            nn.Linear(100, num_classes))\n",
        "\n",
        "    def forward(self, x):\n",
        "        out = self.layer1(x).to(device)\n",
        "        out = self.layer2(out)\n",
        "        out = self.layer3(out)\n",
        "        out = self.layer4(out)\n",
        "        out = self.layer5(out)\n",
        "        out = self.layer6(out)\n",
        "        out = self.layer7(out)\n",
        "        out = self.tovect(out)\n",
        "        out = self.fc(out)\n",
        "        out = self.fc1(out)\n",
        "        out = self.fc2(out)\n",
        "        return out"
      ]
    },
    {
      "cell_type": "code",
      "execution_count": null,
      "metadata": {
        "id": "EmMLCy5td3lC"
      },
      "outputs": [],
      "source": [
        "ks = 3\n",
        "cc = 2\n",
        "\n",
        "class CNN4(nn.Module):#четыре пулинга\n",
        "    def __init__(self, num_classes=10):\n",
        "        super(CNN4, self).__init__()\n",
        "        self.layer1 = nn.Sequential(\n",
        "            nn.Conv2d(3, 20, kernel_size=3, stride=1, padding=1),\n",
        "            nn.BatchNorm2d(20),\n",
        "            nn.ReLU())\n",
        "        self.layer2 = nn.Sequential(\n",
        "            nn.Conv2d(20, 20, kernel_size=3, stride=1, padding=1),\n",
        "            nn.BatchNorm2d(20),\n",
        "            nn.ReLU(),\n",
        "            nn.MaxPool2d(kernel_size = 2, stride = 2))\n",
        "        self.layer3 = nn.Sequential(\n",
        "            nn.Conv2d(20, 40, kernel_size=3, stride=1, padding=1),\n",
        "            nn.BatchNorm2d(40),\n",
        "            nn.ReLU())\n",
        "        self.layer4 = nn.Sequential(\n",
        "            nn.Conv2d(40, 40, kernel_size=3, stride=1, padding=1),\n",
        "            nn.BatchNorm2d(40),\n",
        "            nn.ReLU(),\n",
        "            nn.MaxPool2d(kernel_size = 2, stride = 2)\n",
        "            )\n",
        "        self.layer5 = nn.Sequential(\n",
        "            nn.Conv2d(40, 80, kernel_size=3, stride=1, padding=1),\n",
        "            nn.BatchNorm2d(80),\n",
        "            nn.ReLU())\n",
        "        self.layer6 = nn.Sequential(\n",
        "            nn.Conv2d(80, 80, kernel_size=3, stride=1, padding=1),\n",
        "            nn.BatchNorm2d(80),\n",
        "            nn.ReLU(),\n",
        "            nn.MaxPool2d(kernel_size = 2, stride = 2))\n",
        "        self.layer7 = nn.Sequential(\n",
        "            nn.Sequential(\n",
        "            nn.Conv2d(80, 160, kernel_size=3, stride=1, padding=1),\n",
        "            nn.BatchNorm2d(160),\n",
        "            nn.ReLU()),\n",
        "\n",
        "            nn.Sequential(\n",
        "            nn.Conv2d(160, 160, kernel_size=3, stride=1, padding=1),\n",
        "            nn.BatchNorm2d(160),\n",
        "            nn.ReLU(),\n",
        "            nn.MaxPool2d(kernel_size = 2, stride = 2)),\n",
        "\n",
        "            nn.Sequential(\n",
        "            nn.Conv2d(160, 160, kernel_size=3, stride=1, padding=1),\n",
        "            nn.BatchNorm2d(160),\n",
        "            nn.ReLU()),\n",
        "\n",
        "            nn.Sequential(\n",
        "            nn.Conv2d(160, 160, kernel_size=3, stride=1, padding=1),\n",
        "            nn.BatchNorm2d(160),\n",
        "            nn.ReLU())\n",
        "        )\n",
        "        self.tovect = ToVect()\n",
        "        self.fc = nn.Sequential(\n",
        "            nn.Dropout(0.5),\n",
        "            nn.Linear(640, 500),\n",
        "            nn.ReLU())\n",
        "        self.fc1 = nn.Sequential(\n",
        "            nn.Dropout(0.5),\n",
        "            nn.Linear(500, 100),\n",
        "            nn.ReLU())\n",
        "        self.fc2= nn.Sequential(\n",
        "            nn.Linear(100, num_classes))\n",
        "\n",
        "    def forward(self, x):\n",
        "        out = self.layer1(x).to(device)\n",
        "        out = self.layer2(out)\n",
        "        out = self.layer3(out)\n",
        "        out = self.layer4(out)\n",
        "        out = self.layer5(out)\n",
        "        out = self.layer6(out)\n",
        "        out = self.layer7(out)\n",
        "        out = self.tovect(out)\n",
        "        out = self.fc(out)\n",
        "        out = self.fc1(out)\n",
        "        out = self.fc2(out)\n",
        "        return out"
      ]
    },
    {
      "cell_type": "code",
      "execution_count": null,
      "metadata": {
        "id": "x10VMZ0fd5lw"
      },
      "outputs": [],
      "source": [
        "ks = 3\n",
        "cc = 2\n",
        "\n",
        "class CNN5(nn.Module):#пять пулингов\n",
        "    def __init__(self, num_classes=10):\n",
        "        super(CNN5, self).__init__()\n",
        "        self.layer1 = nn.Sequential(\n",
        "            nn.Conv2d(3, 20, kernel_size=3, stride=1, padding=1),\n",
        "            nn.BatchNorm2d(20),\n",
        "            nn.ReLU())\n",
        "        self.layer2 = nn.Sequential(\n",
        "            nn.Conv2d(20, 20, kernel_size=3, stride=1, padding=1),\n",
        "            nn.BatchNorm2d(20),\n",
        "            nn.ReLU(),\n",
        "            nn.MaxPool2d(kernel_size = 2, stride = 2))\n",
        "        self.layer3 = nn.Sequential(\n",
        "            nn.Conv2d(20, 40, kernel_size=3, stride=1, padding=1),\n",
        "            nn.BatchNorm2d(40),\n",
        "            nn.ReLU())\n",
        "        self.layer4 = nn.Sequential(\n",
        "            nn.Conv2d(40, 40, kernel_size=3, stride=1, padding=1),\n",
        "            nn.BatchNorm2d(40),\n",
        "            nn.ReLU(),\n",
        "            nn.MaxPool2d(kernel_size = 2, stride = 2)\n",
        "            )\n",
        "        self.layer5 = nn.Sequential(\n",
        "            nn.Conv2d(40, 80, kernel_size=3, stride=1, padding=1),\n",
        "            nn.BatchNorm2d(80),\n",
        "            nn.ReLU())\n",
        "        self.layer6 = nn.Sequential(\n",
        "            nn.Conv2d(80, 80, kernel_size=3, stride=1, padding=1),\n",
        "            nn.BatchNorm2d(80),\n",
        "            nn.ReLU(),\n",
        "            nn.MaxPool2d(kernel_size = 2, stride = 2))\n",
        "        self.layer7 = nn.Sequential(\n",
        "            nn.Sequential(\n",
        "            nn.Conv2d(80, 160, kernel_size=3, stride=1, padding=1),\n",
        "            nn.BatchNorm2d(160),\n",
        "            nn.ReLU()),\n",
        "\n",
        "            nn.Sequential(\n",
        "            nn.Conv2d(160, 160, kernel_size=3, stride=1, padding=1),\n",
        "            nn.BatchNorm2d(160),\n",
        "            nn.ReLU(),\n",
        "            nn.MaxPool2d(kernel_size = 2, stride = 2)),\n",
        "\n",
        "            nn.Sequential(\n",
        "            nn.Conv2d(160, 320, kernel_size=3, stride=1, padding=1),\n",
        "            nn.BatchNorm2d(320),\n",
        "            nn.ReLU()),\n",
        "\n",
        "            nn.Sequential(\n",
        "            nn.Conv2d(320, 320, kernel_size=3, stride=1, padding=1),\n",
        "            nn.BatchNorm2d(320),\n",
        "            nn.ReLU(),\n",
        "            nn.MaxPool2d(kernel_size = 2, stride = 2)),\n",
        "\n",
        "            nn.Sequential(\n",
        "            nn.Conv2d(320, 320, kernel_size=3, stride=1, padding=1),\n",
        "            nn.BatchNorm2d(320),\n",
        "            nn.ReLU()),\n",
        "\n",
        "            nn.Sequential(\n",
        "            nn.Conv2d(320, 320, kernel_size=3, stride=1, padding=1),\n",
        "            nn.BatchNorm2d(320),\n",
        "            nn.ReLU()),\n",
        "\n",
        "            nn.Sequential(\n",
        "            nn.Conv2d(320, 320, kernel_size=3, stride=1, padding=1),\n",
        "            nn.BatchNorm2d(320),\n",
        "            nn.ReLU()),\n",
        "            # nn.Sequential(\n",
        "            # nn.Conv2d(320, 320, kernel_size=3, stride=1, padding=1),\n",
        "            # nn.BatchNorm2d(320),\n",
        "            # nn.ReLU())\n",
        "        )\n",
        "        self.tovect = ToVect()\n",
        "        self.fc = nn.Sequential(\n",
        "            nn.Dropout(0.5),\n",
        "            nn.Linear(320, 300),\n",
        "            nn.ReLU())\n",
        "        self.fc1 = nn.Sequential(\n",
        "            nn.Dropout(0.5),\n",
        "            nn.Linear(300, 300),\n",
        "            nn.ReLU())\n",
        "        self.fc2= nn.Sequential(\n",
        "            nn.Linear(300, num_classes))\n",
        "\n",
        "    def forward(self, x):\n",
        "        out = self.layer1(x).to(device)\n",
        "        out = self.layer2(out)\n",
        "        out = self.layer3(out)\n",
        "        out = self.layer4(out)\n",
        "        out = self.layer5(out)\n",
        "        out = self.layer6(out)\n",
        "        out = self.layer7(out)\n",
        "        out = self.tovect(out)\n",
        "        out = self.fc(out)\n",
        "        out = self.fc1(out)\n",
        "        out = self.fc2(out)\n",
        "        return out"
      ]
    },
    {
      "cell_type": "code",
      "execution_count": null,
      "metadata": {
        "id": "IbKbOn9qd8tr"
      },
      "outputs": [],
      "source": [
        "def train(model, n_e = 15, l_r = 0.005):\n",
        "  num_classes = 10\n",
        "  num_epochs = n_e\n",
        "  batch_size = 8\n",
        "  learning_rate = l_r\n",
        "\n",
        "  # Loss and optimizer\n",
        "  criterion = nn.CrossEntropyLoss()\n",
        "  optimizer = torch.optim.SGD(model.parameters(), lr=learning_rate, weight_decay = 0.005, momentum = 0.9)\n",
        "\n",
        "\n",
        "  # Train the model\n",
        "  total_step = len(train_loader)\n",
        "\n",
        "  total_step = len(train_loader)\n",
        "\n",
        "  for epoch in range(num_epochs):\n",
        "      for i, (images, labels) in enumerate(train_loader):\n",
        "          # Move tensors to the configured device\n",
        "          images = images.to(device)\n",
        "          labels = labels.to(device)\n",
        "\n",
        "          # Forward pass\n",
        "          outputs = model(images)\n",
        "          loss = criterion(outputs, labels)\n",
        "\n",
        "          # Backward and optimize\n",
        "          optimizer.zero_grad()\n",
        "          loss.backward()\n",
        "          optimizer.step()\n",
        "\n",
        "      print ('Epoch [{}/{}], Step [{}/{}], Loss: {:.4f}'\n",
        "                    .format(epoch+1, num_epochs, i+1, total_step, loss.item()))\n",
        "\n",
        "      # Validation\n",
        "      with torch.no_grad():\n",
        "          correct = 0\n",
        "          total = 0\n",
        "          for images, labels in valid_loader:\n",
        "              images = images.to(device)\n",
        "              labels = labels.to(device)\n",
        "              outputs = model(images)\n",
        "              _, predicted = torch.max(outputs.data, 1)\n",
        "              total += labels.size(0)\n",
        "              correct += (predicted == labels).sum().item()\n",
        "              del images, labels, outputs\n",
        "          print(total, correct)\n",
        "          print('Accuracy of the network on the {} validation images: {} %'.format(total, 100 * correct / total))"
      ]
    },
    {
      "cell_type": "code",
      "execution_count": null,
      "metadata": {
        "id": "iG6hg9kEeC4_"
      },
      "outputs": [],
      "source": [
        "def check(model):\n",
        "  with torch.no_grad():\n",
        "      correct = 0\n",
        "      total = 0\n",
        "      for images, labels in test_loader:\n",
        "          images = images.to(device)\n",
        "          labels = labels.to(device)\n",
        "          outputs = model(images)\n",
        "          _, predicted = torch.max(outputs.data, 1)\n",
        "          total += labels.size(0)\n",
        "          correct += (predicted == labels).sum().item()\n",
        "          del images, labels, outputs\n",
        "\n",
        "      print('Accuracy of the network on the {} test images: {} %'.format(total, 100 * correct / total))"
      ]
    },
    {
      "cell_type": "code",
      "execution_count": null,
      "metadata": {
        "id": "y7kzN0RCeFg4"
      },
      "outputs": [],
      "source": [
        "model1 = CNN().to(device)\n",
        "model2 = CNN2().to(device)\n",
        "model3 = CNN3().to(device)\n",
        "model4 = CNN4().to(device)\n",
        "model5 = CNN5().to(device)"
      ]
    },
    {
      "cell_type": "code",
      "execution_count": null,
      "metadata": {
        "colab": {
          "base_uri": "https://localhost:8080/"
        },
        "id": "11g6n-kBeH7W",
        "outputId": "ce94440e-6953-4b7d-f554-0da888838b0c"
      },
      "outputs": [
        {
          "name": "stdout",
          "output_type": "stream",
          "text": [
            "Epoch [1/15], Step [5625/5625], Loss: 1.1186\n",
            "5000 2291\n",
            "Accuracy of the network on the 5000 validation images: 45.82 %\n",
            "Epoch [2/15], Step [5625/5625], Loss: 0.6193\n",
            "5000 2828\n",
            "Accuracy of the network on the 5000 validation images: 56.56 %\n",
            "Epoch [3/15], Step [5625/5625], Loss: 1.6375\n",
            "5000 2956\n",
            "Accuracy of the network on the 5000 validation images: 59.12 %\n",
            "Epoch [4/15], Step [5625/5625], Loss: 2.0241\n",
            "5000 2834\n",
            "Accuracy of the network on the 5000 validation images: 56.68 %\n",
            "Epoch [5/15], Step [5625/5625], Loss: 1.1876\n",
            "5000 2860\n",
            "Accuracy of the network on the 5000 validation images: 57.2 %\n",
            "Epoch [6/15], Step [5625/5625], Loss: 0.8553\n",
            "5000 3099\n",
            "Accuracy of the network on the 5000 validation images: 61.98 %\n",
            "Epoch [7/15], Step [5625/5625], Loss: 1.1991\n",
            "5000 2886\n",
            "Accuracy of the network on the 5000 validation images: 57.72 %\n",
            "Epoch [8/15], Step [5625/5625], Loss: 1.9419\n",
            "5000 2753\n",
            "Accuracy of the network on the 5000 validation images: 55.06 %\n",
            "Epoch [9/15], Step [5625/5625], Loss: 1.1317\n",
            "5000 3039\n",
            "Accuracy of the network on the 5000 validation images: 60.78 %\n",
            "Epoch [10/15], Step [5625/5625], Loss: 1.4149\n",
            "5000 3104\n",
            "Accuracy of the network on the 5000 validation images: 62.08 %\n",
            "Epoch [11/15], Step [5625/5625], Loss: 1.1386\n",
            "5000 3035\n",
            "Accuracy of the network on the 5000 validation images: 60.7 %\n",
            "Epoch [12/15], Step [5625/5625], Loss: 1.2577\n",
            "5000 2998\n",
            "Accuracy of the network on the 5000 validation images: 59.96 %\n",
            "Epoch [13/15], Step [5625/5625], Loss: 0.6323\n",
            "5000 3192\n",
            "Accuracy of the network on the 5000 validation images: 63.84 %\n",
            "Epoch [14/15], Step [5625/5625], Loss: 0.7215\n",
            "5000 3002\n",
            "Accuracy of the network on the 5000 validation images: 60.04 %\n",
            "Epoch [15/15], Step [5625/5625], Loss: 0.8167\n",
            "5000 3098\n",
            "Accuracy of the network on the 5000 validation images: 61.96 %\n"
          ]
        }
      ],
      "source": [
        "train(model1)"
      ]
    },
    {
      "cell_type": "code",
      "execution_count": null,
      "metadata": {
        "colab": {
          "base_uri": "https://localhost:8080/"
        },
        "id": "4b1rEdxseIy6",
        "outputId": "ee7e5c10-7d50-451c-8f83-000b5e2e238c"
      },
      "outputs": [
        {
          "name": "stdout",
          "output_type": "stream",
          "text": [
            "Accuracy of the network on the 10000 test images: 61.63 %\n"
          ]
        }
      ],
      "source": [
        "check(model1)"
      ]
    },
    {
      "cell_type": "code",
      "execution_count": null,
      "metadata": {
        "colab": {
          "base_uri": "https://localhost:8080/"
        },
        "id": "cZZr3taOeVwj",
        "outputId": "052ae943-3c2b-412f-e480-cb75ab5e8ff9"
      },
      "outputs": [
        {
          "name": "stdout",
          "output_type": "stream",
          "text": [
            "Epoch [1/15], Step [5625/5625], Loss: 0.7822\n",
            "5000 2619\n",
            "Accuracy of the network on the 5000 validation images: 52.38 %\n",
            "Epoch [2/15], Step [5625/5625], Loss: 1.5963\n",
            "5000 2730\n",
            "Accuracy of the network on the 5000 validation images: 54.6 %\n",
            "Epoch [3/15], Step [5625/5625], Loss: 1.2102\n",
            "5000 2961\n",
            "Accuracy of the network on the 5000 validation images: 59.22 %\n",
            "Epoch [4/15], Step [5625/5625], Loss: 0.9981\n",
            "5000 3046\n",
            "Accuracy of the network on the 5000 validation images: 60.92 %\n",
            "Epoch [5/15], Step [5625/5625], Loss: 1.2366\n",
            "5000 2978\n",
            "Accuracy of the network on the 5000 validation images: 59.56 %\n",
            "Epoch [6/15], Step [5625/5625], Loss: 1.6261\n",
            "5000 3059\n",
            "Accuracy of the network on the 5000 validation images: 61.18 %\n",
            "Epoch [7/15], Step [5625/5625], Loss: 1.2426\n",
            "5000 3053\n",
            "Accuracy of the network on the 5000 validation images: 61.06 %\n",
            "Epoch [8/15], Step [5625/5625], Loss: 0.9074\n",
            "5000 2988\n",
            "Accuracy of the network on the 5000 validation images: 59.76 %\n",
            "Epoch [9/15], Step [5625/5625], Loss: 1.3906\n",
            "5000 3119\n",
            "Accuracy of the network on the 5000 validation images: 62.38 %\n",
            "Epoch [10/15], Step [5625/5625], Loss: 1.2689\n",
            "5000 3219\n",
            "Accuracy of the network on the 5000 validation images: 64.38 %\n",
            "Epoch [11/15], Step [5625/5625], Loss: 0.7850\n",
            "5000 3077\n",
            "Accuracy of the network on the 5000 validation images: 61.54 %\n",
            "Epoch [12/15], Step [5625/5625], Loss: 0.9237\n",
            "5000 3158\n",
            "Accuracy of the network on the 5000 validation images: 63.16 %\n",
            "Epoch [13/15], Step [5625/5625], Loss: 0.9829\n",
            "5000 3210\n",
            "Accuracy of the network on the 5000 validation images: 64.2 %\n",
            "Epoch [14/15], Step [5625/5625], Loss: 0.5729\n",
            "5000 3133\n",
            "Accuracy of the network on the 5000 validation images: 62.66 %\n",
            "Epoch [15/15], Step [5625/5625], Loss: 1.2609\n",
            "5000 3084\n",
            "Accuracy of the network on the 5000 validation images: 61.68 %\n"
          ]
        }
      ],
      "source": [
        "train(model2)"
      ]
    },
    {
      "cell_type": "code",
      "execution_count": null,
      "metadata": {
        "colab": {
          "base_uri": "https://localhost:8080/"
        },
        "id": "P_uVe8QfeXeC",
        "outputId": "24eb60e8-4c0e-4c0b-aeea-f0a39fe500ed"
      },
      "outputs": [
        {
          "name": "stdout",
          "output_type": "stream",
          "text": [
            "Accuracy of the network on the 10000 test images: 61.69 %\n"
          ]
        }
      ],
      "source": [
        "check(model2)"
      ]
    },
    {
      "cell_type": "code",
      "execution_count": null,
      "metadata": {
        "colab": {
          "base_uri": "https://localhost:8080/"
        },
        "id": "nBaBIK9yeai6",
        "outputId": "5abdabe1-b2c9-415b-99ee-44736a498538"
      },
      "outputs": [
        {
          "name": "stdout",
          "output_type": "stream",
          "text": [
            "Epoch [1/15], Step [5625/5625], Loss: 1.1721\n",
            "5000 2580\n",
            "Accuracy of the network on the 5000 validation images: 51.6 %\n",
            "Epoch [2/15], Step [5625/5625], Loss: 1.4243\n",
            "5000 2956\n",
            "Accuracy of the network on the 5000 validation images: 59.12 %\n",
            "Epoch [3/15], Step [5625/5625], Loss: 1.0520\n",
            "5000 3059\n",
            "Accuracy of the network on the 5000 validation images: 61.18 %\n",
            "Epoch [4/15], Step [5625/5625], Loss: 1.9962\n",
            "5000 3127\n",
            "Accuracy of the network on the 5000 validation images: 62.54 %\n",
            "Epoch [5/15], Step [5625/5625], Loss: 0.8656\n",
            "5000 3127\n",
            "Accuracy of the network on the 5000 validation images: 62.54 %\n",
            "Epoch [6/15], Step [5625/5625], Loss: 1.7700\n",
            "5000 3323\n",
            "Accuracy of the network on the 5000 validation images: 66.46 %\n",
            "Epoch [7/15], Step [5625/5625], Loss: 0.5162\n",
            "5000 3229\n",
            "Accuracy of the network on the 5000 validation images: 64.58 %\n",
            "Epoch [8/15], Step [5625/5625], Loss: 1.7917\n",
            "5000 3129\n",
            "Accuracy of the network on the 5000 validation images: 62.58 %\n",
            "Epoch [9/15], Step [5625/5625], Loss: 1.2613\n",
            "5000 3267\n",
            "Accuracy of the network on the 5000 validation images: 65.34 %\n",
            "Epoch [10/15], Step [5625/5625], Loss: 0.7784\n",
            "5000 3301\n",
            "Accuracy of the network on the 5000 validation images: 66.02 %\n",
            "Epoch [11/15], Step [5625/5625], Loss: 0.6374\n",
            "5000 3290\n",
            "Accuracy of the network on the 5000 validation images: 65.8 %\n",
            "Epoch [12/15], Step [5625/5625], Loss: 1.5588\n",
            "5000 3124\n",
            "Accuracy of the network on the 5000 validation images: 62.48 %\n",
            "Epoch [13/15], Step [5625/5625], Loss: 0.8671\n",
            "5000 3201\n",
            "Accuracy of the network on the 5000 validation images: 64.02 %\n",
            "Epoch [14/15], Step [5625/5625], Loss: 0.5187\n",
            "5000 3252\n",
            "Accuracy of the network on the 5000 validation images: 65.04 %\n",
            "Epoch [15/15], Step [5625/5625], Loss: 0.8135\n",
            "5000 3150\n",
            "Accuracy of the network on the 5000 validation images: 63.0 %\n"
          ]
        }
      ],
      "source": [
        "train(model3)"
      ]
    },
    {
      "cell_type": "code",
      "execution_count": null,
      "metadata": {
        "colab": {
          "base_uri": "https://localhost:8080/"
        },
        "id": "8VZVtoRjecyr",
        "outputId": "46d075e8-9476-45e0-bcef-1f93109ff54e"
      },
      "outputs": [
        {
          "name": "stdout",
          "output_type": "stream",
          "text": [
            "Accuracy of the network on the 10000 test images: 63.24 %\n"
          ]
        }
      ],
      "source": [
        "check(model3)"
      ]
    },
    {
      "cell_type": "code",
      "execution_count": null,
      "metadata": {
        "colab": {
          "base_uri": "https://localhost:8080/"
        },
        "id": "1hXwfHgheesV",
        "outputId": "42cd1066-7580-4f51-83ce-4204432d0517"
      },
      "outputs": [
        {
          "name": "stdout",
          "output_type": "stream",
          "text": [
            "Epoch [1/15], Step [5625/5625], Loss: 1.5887\n",
            "5000 2126\n",
            "Accuracy of the network on the 5000 validation images: 42.52 %\n",
            "Epoch [2/15], Step [5625/5625], Loss: 1.4262\n",
            "5000 2661\n",
            "Accuracy of the network on the 5000 validation images: 53.22 %\n",
            "Epoch [3/15], Step [5625/5625], Loss: 1.0450\n",
            "5000 2769\n",
            "Accuracy of the network on the 5000 validation images: 55.38 %\n",
            "Epoch [4/15], Step [5625/5625], Loss: 0.7150\n",
            "5000 2907\n",
            "Accuracy of the network on the 5000 validation images: 58.14 %\n",
            "Epoch [5/15], Step [5625/5625], Loss: 1.4204\n",
            "5000 3007\n",
            "Accuracy of the network on the 5000 validation images: 60.14 %\n",
            "Epoch [6/15], Step [5625/5625], Loss: 1.1766\n",
            "5000 3073\n",
            "Accuracy of the network on the 5000 validation images: 61.46 %\n",
            "Epoch [7/15], Step [5625/5625], Loss: 1.9359\n",
            "5000 3154\n",
            "Accuracy of the network on the 5000 validation images: 63.08 %\n",
            "Epoch [8/15], Step [5625/5625], Loss: 0.7544\n",
            "5000 3201\n",
            "Accuracy of the network on the 5000 validation images: 64.02 %\n",
            "Epoch [9/15], Step [5625/5625], Loss: 1.3922\n",
            "5000 3116\n",
            "Accuracy of the network on the 5000 validation images: 62.32 %\n",
            "Epoch [10/15], Step [5625/5625], Loss: 1.3324\n",
            "5000 3236\n",
            "Accuracy of the network on the 5000 validation images: 64.72 %\n",
            "Epoch [11/15], Step [5625/5625], Loss: 1.2196\n",
            "5000 3120\n",
            "Accuracy of the network on the 5000 validation images: 62.4 %\n",
            "Epoch [12/15], Step [5625/5625], Loss: 1.1803\n",
            "5000 3162\n",
            "Accuracy of the network on the 5000 validation images: 63.24 %\n",
            "Epoch [13/15], Step [5625/5625], Loss: 1.4377\n",
            "5000 3123\n",
            "Accuracy of the network on the 5000 validation images: 62.46 %\n",
            "Epoch [14/15], Step [5625/5625], Loss: 2.9466\n",
            "5000 3004\n",
            "Accuracy of the network on the 5000 validation images: 60.08 %\n",
            "Epoch [15/15], Step [5625/5625], Loss: 0.8451\n",
            "5000 3135\n",
            "Accuracy of the network on the 5000 validation images: 62.7 %\n"
          ]
        }
      ],
      "source": [
        "train(model4)"
      ]
    },
    {
      "cell_type": "code",
      "execution_count": null,
      "metadata": {
        "colab": {
          "base_uri": "https://localhost:8080/"
        },
        "id": "NIN0_penehJn",
        "outputId": "2588185a-a5e6-44d9-f8e4-822d828141bd"
      },
      "outputs": [
        {
          "name": "stdout",
          "output_type": "stream",
          "text": [
            "Accuracy of the network on the 10000 test images: 62.14 %\n"
          ]
        }
      ],
      "source": [
        "check(model4)"
      ]
    },
    {
      "cell_type": "code",
      "execution_count": null,
      "metadata": {
        "colab": {
          "base_uri": "https://localhost:8080/"
        },
        "id": "4P3shZ9Pejve",
        "outputId": "cbf3acef-1e77-4f96-f9ae-55e3ef32b23a"
      },
      "outputs": [
        {
          "name": "stdout",
          "output_type": "stream",
          "text": [
            "Epoch [1/15], Step [5625/5625], Loss: 1.8979\n",
            "5000 1128\n",
            "Accuracy of the network on the 5000 validation images: 22.56 %\n",
            "Epoch [2/15], Step [5625/5625], Loss: 1.5945\n",
            "5000 1396\n",
            "Accuracy of the network on the 5000 validation images: 27.92 %\n",
            "Epoch [3/15], Step [5625/5625], Loss: 1.5728\n",
            "5000 1581\n",
            "Accuracy of the network on the 5000 validation images: 31.62 %\n",
            "Epoch [4/15], Step [5625/5625], Loss: 1.5812\n",
            "5000 1622\n",
            "Accuracy of the network on the 5000 validation images: 32.44 %\n",
            "Epoch [5/15], Step [5625/5625], Loss: 2.1753\n",
            "5000 2006\n",
            "Accuracy of the network on the 5000 validation images: 40.12 %\n",
            "Epoch [6/15], Step [5625/5625], Loss: 1.8327\n",
            "5000 1954\n",
            "Accuracy of the network on the 5000 validation images: 39.08 %\n",
            "Epoch [7/15], Step [5625/5625], Loss: 1.8741\n",
            "5000 2145\n",
            "Accuracy of the network on the 5000 validation images: 42.9 %\n",
            "Epoch [8/15], Step [5625/5625], Loss: 1.1915\n",
            "5000 2407\n",
            "Accuracy of the network on the 5000 validation images: 48.14 %\n",
            "Epoch [9/15], Step [5625/5625], Loss: 1.1353\n",
            "5000 2378\n",
            "Accuracy of the network on the 5000 validation images: 47.56 %\n",
            "Epoch [10/15], Step [5625/5625], Loss: 1.5231\n",
            "5000 2356\n",
            "Accuracy of the network on the 5000 validation images: 47.12 %\n",
            "Epoch [11/15], Step [5625/5625], Loss: 1.1790\n",
            "5000 2352\n",
            "Accuracy of the network on the 5000 validation images: 47.04 %\n",
            "Epoch [12/15], Step [5625/5625], Loss: 1.5239\n",
            "5000 2309\n",
            "Accuracy of the network on the 5000 validation images: 46.18 %\n",
            "Epoch [13/15], Step [5625/5625], Loss: 1.9227\n",
            "5000 2492\n",
            "Accuracy of the network on the 5000 validation images: 49.84 %\n",
            "Epoch [14/15], Step [5625/5625], Loss: 1.9511\n",
            "5000 2560\n",
            "Accuracy of the network on the 5000 validation images: 51.2 %\n",
            "Epoch [15/15], Step [5625/5625], Loss: 2.1945\n",
            "5000 2548\n",
            "Accuracy of the network on the 5000 validation images: 50.96 %\n"
          ]
        }
      ],
      "source": [
        "train(model5)"
      ]
    },
    {
      "cell_type": "code",
      "execution_count": null,
      "metadata": {
        "colab": {
          "base_uri": "https://localhost:8080/"
        },
        "id": "aHawA1Rgelu2",
        "outputId": "977e34f5-5cd0-43ad-978a-69f7b29539a1"
      },
      "outputs": [
        {
          "name": "stdout",
          "output_type": "stream",
          "text": [
            "Accuracy of the network on the 10000 test images: 51.47 %\n"
          ]
        }
      ],
      "source": [
        "check(model5)"
      ]
    },
    {
      "cell_type": "markdown",
      "metadata": {
        "id": "L2cwiGWHk5os"
      },
      "source": [
        "Так как лучше всего себя показал 3-й вариант, улучшим именно его, увеличив количество слоев изображения после свертки"
      ]
    },
    {
      "cell_type": "code",
      "execution_count": null,
      "metadata": {
        "id": "bTFEys7Qen9g"
      },
      "outputs": [],
      "source": [
        "class TheBestOneIHope(nn.Module):\n",
        "    def __init__(self, num_classes=10):\n",
        "        super(TheBestOneIHope, self).__init__()\n",
        "        self.layer1 = nn.Sequential(\n",
        "            nn.Conv2d(3, 32 * 2, kernel_size=3, stride=1, padding=1),\n",
        "            nn.BatchNorm2d(32 * 2),\n",
        "            nn.ReLU())\n",
        "        self.layer2 = nn.Sequential(\n",
        "            nn.Conv2d(32 * 2, 32 * 2, kernel_size=3, stride=1, padding=1),\n",
        "            nn.BatchNorm2d(32 * 2),\n",
        "            nn.ReLU(),\n",
        "            nn.MaxPool2d(kernel_size = 2, stride = 2))\n",
        "        self.layer3 = nn.Sequential(\n",
        "            nn.Conv2d(32 * 2, 64 * 2, kernel_size=3, stride=1, padding=1),\n",
        "            nn.BatchNorm2d(64 * 2),\n",
        "            nn.ReLU())\n",
        "        self.layer4 = nn.Sequential(\n",
        "            nn.Conv2d(64 * 2, 64 * 2, kernel_size=3, stride=1, padding=1),\n",
        "            nn.BatchNorm2d(64 * 2),\n",
        "            nn.ReLU(),\n",
        "            nn.MaxPool2d(kernel_size = 2, stride = 2)\n",
        "            )\n",
        "        self.layer5 = nn.Sequential(\n",
        "            nn.Conv2d(64 * 2, 128 * 2, kernel_size=3, stride=1, padding=1),\n",
        "            nn.BatchNorm2d(128 * 2),\n",
        "            nn.ReLU())\n",
        "        self.layer6 = nn.Sequential(\n",
        "            nn.Conv2d(128 * 2, 128 * 2, kernel_size=3, stride=1, padding=1),\n",
        "            nn.BatchNorm2d(128 * 2),\n",
        "            nn.ReLU(),\n",
        "            nn.MaxPool2d(kernel_size = 2, stride = 2))\n",
        "        self.layer7 = nn.Sequential(\n",
        "            nn.Sequential(\n",
        "            nn.Conv2d(128 * 2, 128 * 2, kernel_size=3, stride=1, padding=1),\n",
        "            nn.BatchNorm2d(128 * 2),\n",
        "            nn.ReLU()),\n",
        "\n",
        "            nn.Sequential(\n",
        "            nn.Conv2d(128 * 2, 128 * 2, kernel_size=3, stride=1, padding=1),\n",
        "            nn.BatchNorm2d(128 * 2),\n",
        "            nn.ReLU()),\n",
        "\n",
        "        )\n",
        "        self.tovect = ToVect()\n",
        "        self.fc = nn.Sequential(\n",
        "            nn.Dropout(0.5),\n",
        "            nn.Linear(4*4*128 * 2, 1000),\n",
        "            nn.ReLU())\n",
        "        self.fc1 = nn.Sequential(\n",
        "            nn.Dropout(0.5),\n",
        "            nn.Linear(1000, 100),\n",
        "            nn.ReLU())\n",
        "        self.fc2= nn.Sequential(\n",
        "            nn.Linear(100, num_classes))\n",
        "\n",
        "    def forward(self, x):\n",
        "        # out = self.layer0(x).to(device)\n",
        "        out = self.layer1(x)\n",
        "        out = self.layer2(out)\n",
        "        out = self.layer3(out)\n",
        "        out = self.layer4(out)\n",
        "        out = self.layer5(out)\n",
        "        out = self.layer6(out)\n",
        "        out = self.layer7(out)\n",
        "        out = self.tovect(out)\n",
        "        out = self.fc(out)\n",
        "        out = self.fc1(out)\n",
        "        out = self.fc2(out)\n",
        "        return out\n",
        "\n",
        "best_model = TheBestOneIHope().to(device)"
      ]
    },
    {
      "cell_type": "code",
      "execution_count": null,
      "metadata": {
        "colab": {
          "background_save": true,
          "base_uri": "https://localhost:8080/"
        },
        "id": "IN37vpWoe_cf",
        "outputId": "35abd8b9-a19c-4a43-bf3a-85bc0621f738"
      },
      "outputs": [
        {
          "name": "stdout",
          "output_type": "stream",
          "text": [
            "Epoch [1/15], Step [5625/5625], Loss: 1.4659\n",
            "5000 1894\n",
            "Accuracy of the network on the 5000 validation images: 37.88 %\n",
            "Epoch [2/15], Step [5625/5625], Loss: 0.8830\n",
            "5000 2588\n",
            "Accuracy of the network on the 5000 validation images: 51.76 %\n",
            "Epoch [3/15], Step [5625/5625], Loss: 1.3008\n",
            "5000 2684\n",
            "Accuracy of the network on the 5000 validation images: 53.68 %\n",
            "Epoch [4/15], Step [5625/5625], Loss: 1.3409\n",
            "5000 2547\n",
            "Accuracy of the network on the 5000 validation images: 50.94 %\n",
            "Epoch [5/15], Step [5625/5625], Loss: 1.2194\n",
            "5000 2840\n",
            "Accuracy of the network on the 5000 validation images: 56.8 %\n",
            "Epoch [6/15], Step [5625/5625], Loss: 2.2272\n",
            "5000 2863\n",
            "Accuracy of the network on the 5000 validation images: 57.26 %\n",
            "Epoch [7/15], Step [5625/5625], Loss: 0.6279\n",
            "5000 2719\n",
            "Accuracy of the network on the 5000 validation images: 54.38 %\n",
            "Epoch [8/15], Step [5625/5625], Loss: 0.5883\n",
            "5000 2776\n",
            "Accuracy of the network on the 5000 validation images: 55.52 %\n",
            "Epoch [9/15], Step [5625/5625], Loss: 1.5573\n",
            "5000 2950\n",
            "Accuracy of the network on the 5000 validation images: 59.0 %\n",
            "Epoch [10/15], Step [5625/5625], Loss: 1.3396\n",
            "5000 2945\n",
            "Accuracy of the network on the 5000 validation images: 58.9 %\n",
            "Epoch [11/15], Step [5625/5625], Loss: 1.4507\n",
            "5000 2856\n",
            "Accuracy of the network on the 5000 validation images: 57.12 %\n",
            "Epoch [12/15], Step [5625/5625], Loss: 1.1631\n",
            "5000 2907\n",
            "Accuracy of the network on the 5000 validation images: 58.14 %\n",
            "Epoch [13/15], Step [5625/5625], Loss: 1.0869\n",
            "5000 2706\n",
            "Accuracy of the network on the 5000 validation images: 54.12 %\n",
            "Epoch [14/15], Step [5625/5625], Loss: 0.6268\n",
            "5000 3003\n",
            "Accuracy of the network on the 5000 validation images: 60.06 %\n",
            "Epoch [15/15], Step [5625/5625], Loss: 0.8695\n",
            "5000 2661\n",
            "Accuracy of the network on the 5000 validation images: 53.22 %\n",
            "Epoch [1/15], Step [5625/5625], Loss: 0.9748\n",
            "5000 3027\n",
            "Accuracy of the network on the 5000 validation images: 60.54 %\n",
            "Epoch [2/15], Step [5625/5625], Loss: 0.5713\n",
            "5000 3344\n",
            "Accuracy of the network on the 5000 validation images: 66.88 %\n",
            "Epoch [3/15], Step [5625/5625], Loss: 1.2103\n",
            "5000 3298\n",
            "Accuracy of the network on the 5000 validation images: 65.96 %\n",
            "Epoch [4/15], Step [5625/5625], Loss: 1.6250\n",
            "5000 3441\n",
            "Accuracy of the network on the 5000 validation images: 68.82 %\n",
            "Epoch [5/15], Step [5625/5625], Loss: 1.1011\n",
            "5000 3264\n",
            "Accuracy of the network on the 5000 validation images: 65.28 %\n",
            "Epoch [6/15], Step [5625/5625], Loss: 1.1287\n",
            "5000 3278\n",
            "Accuracy of the network on the 5000 validation images: 65.56 %\n",
            "Epoch [7/15], Step [5625/5625], Loss: 0.5688\n",
            "5000 3259\n",
            "Accuracy of the network on the 5000 validation images: 65.18 %\n",
            "Epoch [8/15], Step [5625/5625], Loss: 1.1495\n",
            "5000 3437\n",
            "Accuracy of the network on the 5000 validation images: 68.74 %\n",
            "Epoch [9/15], Step [5625/5625], Loss: 0.3358\n",
            "5000 3290\n",
            "Accuracy of the network on the 5000 validation images: 65.8 %\n",
            "Epoch [10/15], Step [5625/5625], Loss: 0.5557\n",
            "5000 3452\n",
            "Accuracy of the network on the 5000 validation images: 69.04 %\n",
            "Epoch [11/15], Step [5625/5625], Loss: 2.0935\n",
            "5000 3469\n",
            "Accuracy of the network on the 5000 validation images: 69.38 %\n",
            "Epoch [12/15], Step [5625/5625], Loss: 0.9213\n",
            "5000 3400\n",
            "Accuracy of the network on the 5000 validation images: 68.0 %\n",
            "Epoch [13/15], Step [5625/5625], Loss: 1.2924\n",
            "5000 3424\n",
            "Accuracy of the network on the 5000 validation images: 68.48 %\n",
            "Epoch [14/15], Step [5625/5625], Loss: 0.8072\n",
            "5000 3006\n",
            "Accuracy of the network on the 5000 validation images: 60.12 %\n",
            "Epoch [15/15], Step [5625/5625], Loss: 1.2939\n",
            "5000 3336\n",
            "Accuracy of the network on the 5000 validation images: 66.72 %\n",
            "Epoch [1/15], Step [5625/5625], Loss: 0.7865\n",
            "5000 3848\n",
            "Accuracy of the network on the 5000 validation images: 76.96 %\n",
            "Epoch [2/15], Step [5625/5625], Loss: 0.5213\n",
            "5000 4002\n",
            "Accuracy of the network on the 5000 validation images: 80.04 %\n",
            "Epoch [3/15], Step [5625/5625], Loss: 0.5753\n",
            "5000 3918\n",
            "Accuracy of the network on the 5000 validation images: 78.36 %\n",
            "Epoch [4/15], Step [5625/5625], Loss: 0.8420\n",
            "5000 4001\n",
            "Accuracy of the network on the 5000 validation images: 80.02 %\n",
            "Epoch [5/15], Step [5625/5625], Loss: 0.6248\n",
            "5000 4002\n",
            "Accuracy of the network on the 5000 validation images: 80.04 %\n",
            "Epoch [6/15], Step [5625/5625], Loss: 0.3132\n",
            "5000 3971\n",
            "Accuracy of the network on the 5000 validation images: 79.42 %\n",
            "Epoch [7/15], Step [5625/5625], Loss: 0.2331\n",
            "5000 3916\n",
            "Accuracy of the network on the 5000 validation images: 78.32 %\n",
            "Epoch [8/15], Step [5625/5625], Loss: 0.4071\n",
            "5000 4038\n",
            "Accuracy of the network on the 5000 validation images: 80.76 %\n",
            "Epoch [9/15], Step [5625/5625], Loss: 0.7563\n",
            "5000 4000\n",
            "Accuracy of the network on the 5000 validation images: 80.0 %\n",
            "Epoch [10/15], Step [5625/5625], Loss: 0.5871\n",
            "5000 3961\n",
            "Accuracy of the network on the 5000 validation images: 79.22 %\n",
            "Epoch [11/15], Step [5625/5625], Loss: 0.3218\n",
            "5000 3998\n",
            "Accuracy of the network on the 5000 validation images: 79.96 %\n",
            "Epoch [12/15], Step [5625/5625], Loss: 0.2899\n",
            "5000 3985\n",
            "Accuracy of the network on the 5000 validation images: 79.7 %\n",
            "Epoch [13/15], Step [5625/5625], Loss: 0.6285\n",
            "5000 4055\n",
            "Accuracy of the network on the 5000 validation images: 81.1 %\n",
            "Epoch [14/15], Step [5625/5625], Loss: 1.0335\n",
            "5000 4031\n",
            "Accuracy of the network on the 5000 validation images: 80.62 %\n",
            "Epoch [15/15], Step [5625/5625], Loss: 0.0528\n",
            "5000 3995\n",
            "Accuracy of the network on the 5000 validation images: 79.9 %\n",
            "Epoch [1/15], Step [5625/5625], Loss: 0.2138\n",
            "5000 4151\n",
            "Accuracy of the network on the 5000 validation images: 83.02 %\n",
            "Epoch [2/15], Step [5625/5625], Loss: 0.0767\n",
            "5000 4108\n",
            "Accuracy of the network on the 5000 validation images: 82.16 %\n",
            "Epoch [3/15], Step [5625/5625], Loss: 0.4001\n",
            "5000 4095\n",
            "Accuracy of the network on the 5000 validation images: 81.9 %\n",
            "Epoch [4/15], Step [5625/5625], Loss: 0.0781\n",
            "5000 4113\n",
            "Accuracy of the network on the 5000 validation images: 82.26 %\n",
            "Epoch [5/15], Step [5625/5625], Loss: 0.0949\n",
            "5000 4096\n",
            "Accuracy of the network on the 5000 validation images: 81.92 %\n",
            "Epoch [6/15], Step [5625/5625], Loss: 0.1135\n",
            "5000 4089\n",
            "Accuracy of the network on the 5000 validation images: 81.78 %\n",
            "Epoch [7/15], Step [5625/5625], Loss: 0.0264\n",
            "5000 4080\n",
            "Accuracy of the network on the 5000 validation images: 81.6 %\n",
            "Epoch [8/15], Step [5625/5625], Loss: 0.4043\n",
            "5000 4047\n",
            "Accuracy of the network on the 5000 validation images: 80.94 %\n",
            "Epoch [9/15], Step [5625/5625], Loss: 0.0920\n",
            "5000 4028\n",
            "Accuracy of the network on the 5000 validation images: 80.56 %\n",
            "Epoch [10/15], Step [5625/5625], Loss: 0.9177\n",
            "5000 4037\n",
            "Accuracy of the network on the 5000 validation images: 80.74 %\n",
            "Epoch [11/15], Step [5625/5625], Loss: 0.3486\n",
            "5000 3993\n",
            "Accuracy of the network on the 5000 validation images: 79.86 %\n",
            "Epoch [12/15], Step [5625/5625], Loss: 0.4396\n",
            "5000 3985\n",
            "Accuracy of the network on the 5000 validation images: 79.7 %\n",
            "Epoch [13/15], Step [5625/5625], Loss: 0.0303\n",
            "5000 4085\n",
            "Accuracy of the network on the 5000 validation images: 81.7 %\n",
            "Epoch [14/15], Step [5625/5625], Loss: 0.0623\n",
            "5000 3998\n",
            "Accuracy of the network on the 5000 validation images: 79.96 %\n",
            "Epoch [15/15], Step [5625/5625], Loss: 0.1415\n",
            "5000 4056\n",
            "Accuracy of the network on the 5000 validation images: 81.12 %\n",
            "Epoch [1/15], Step [5625/5625], Loss: 0.0485\n",
            "5000 4262\n",
            "Accuracy of the network on the 5000 validation images: 85.24 %\n",
            "Epoch [2/15], Step [5625/5625], Loss: 0.0010\n",
            "5000 4272\n",
            "Accuracy of the network on the 5000 validation images: 85.44 %\n",
            "Epoch [3/15], Step [5625/5625], Loss: 0.0276\n",
            "5000 4299\n",
            "Accuracy of the network on the 5000 validation images: 85.98 %\n",
            "Epoch [4/15], Step [5625/5625], Loss: 0.0440\n",
            "5000 4284\n",
            "Accuracy of the network on the 5000 validation images: 85.68 %\n",
            "Epoch [5/15], Step [5625/5625], Loss: 0.0203\n",
            "5000 4305\n",
            "Accuracy of the network on the 5000 validation images: 86.1 %\n",
            "Epoch [6/15], Step [5625/5625], Loss: 0.0034\n",
            "5000 4278\n",
            "Accuracy of the network on the 5000 validation images: 85.56 %\n",
            "Epoch [7/15], Step [5625/5625], Loss: 0.0138\n",
            "5000 4300\n",
            "Accuracy of the network on the 5000 validation images: 86.0 %\n",
            "Epoch [8/15], Step [5625/5625], Loss: 0.0109\n",
            "5000 4292\n",
            "Accuracy of the network on the 5000 validation images: 85.84 %\n",
            "Epoch [9/15], Step [5625/5625], Loss: 0.0054\n",
            "5000 4283\n",
            "Accuracy of the network on the 5000 validation images: 85.66 %\n",
            "Epoch [10/15], Step [5625/5625], Loss: 0.0103\n",
            "5000 4287\n",
            "Accuracy of the network on the 5000 validation images: 85.74 %\n",
            "Epoch [11/15], Step [5625/5625], Loss: 0.0144\n",
            "5000 4308\n",
            "Accuracy of the network on the 5000 validation images: 86.16 %\n",
            "Epoch [12/15], Step [5625/5625], Loss: 0.0082\n",
            "5000 4295\n",
            "Accuracy of the network on the 5000 validation images: 85.9 %\n",
            "Epoch [13/15], Step [5625/5625], Loss: 0.0038\n",
            "5000 4300\n",
            "Accuracy of the network on the 5000 validation images: 86.0 %\n",
            "Epoch [14/15], Step [5625/5625], Loss: 0.0105\n",
            "5000 4272\n",
            "Accuracy of the network on the 5000 validation images: 85.44 %\n",
            "Epoch [15/15], Step [5625/5625], Loss: 0.0205\n",
            "5000 4304\n",
            "Accuracy of the network on the 5000 validation images: 86.08 %\n"
          ]
        }
      ],
      "source": [
        "train(best_model, 15, 0.01)\n",
        "train(best_model, 15)\n",
        "train(best_model, 15, 0.001)\n",
        "train(best_model, 15, 0.0005)\n",
        "train(best_model, 15, 0.00005)"
      ]
    },
    {
      "cell_type": "code",
      "execution_count": null,
      "metadata": {
        "colab": {
          "background_save": true
        },
        "id": "iQCjP0TJfCZr",
        "outputId": "2978560e-1a9a-44be-9499-b7e3d065bb0e"
      },
      "outputs": [
        {
          "name": "stdout",
          "output_type": "stream",
          "text": [
            "Accuracy of the network on the 10000 test images: 85.91 %\n"
          ]
        }
      ],
      "source": [
        "check(best_model)"
      ]
    },
    {
      "cell_type": "code",
      "source": [
        "train(best_model, 5, 0.000005)"
      ],
      "metadata": {
        "colab": {
          "base_uri": "https://localhost:8080/"
        },
        "id": "X81hUDBSiJhe",
        "outputId": "3f179643-0022-4d13-afb3-807bef4691c2"
      },
      "execution_count": 34,
      "outputs": [
        {
          "output_type": "stream",
          "name": "stdout",
          "text": [
            "Epoch [1/5], Step [5625/5625], Loss: 0.0060\n",
            "5000 4304\n",
            "Accuracy of the network on the 5000 validation images: 86.08 %\n",
            "Epoch [2/5], Step [5625/5625], Loss: 0.0048\n",
            "5000 4309\n",
            "Accuracy of the network on the 5000 validation images: 86.18 %\n",
            "Epoch [3/5], Step [5625/5625], Loss: 0.0197\n",
            "5000 4295\n",
            "Accuracy of the network on the 5000 validation images: 85.9 %\n",
            "Epoch [4/5], Step [5625/5625], Loss: 0.0076\n",
            "5000 4283\n",
            "Accuracy of the network on the 5000 validation images: 85.66 %\n",
            "Epoch [5/5], Step [5625/5625], Loss: 0.0114\n",
            "5000 4308\n",
            "Accuracy of the network on the 5000 validation images: 86.16 %\n"
          ]
        }
      ]
    },
    {
      "cell_type": "code",
      "source": [
        "train(best_model, 5, 0.0000005)"
      ],
      "metadata": {
        "colab": {
          "base_uri": "https://localhost:8080/"
        },
        "id": "yGBs6rUCjPY8",
        "outputId": "3f7b84cd-8d95-4f42-993c-de85831b9031"
      },
      "execution_count": 35,
      "outputs": [
        {
          "output_type": "stream",
          "name": "stdout",
          "text": [
            "Epoch [1/5], Step [5625/5625], Loss: 0.0158\n",
            "5000 4321\n",
            "Accuracy of the network on the 5000 validation images: 86.42 %\n",
            "Epoch [2/5], Step [5625/5625], Loss: 0.0115\n",
            "5000 4283\n",
            "Accuracy of the network on the 5000 validation images: 85.66 %\n",
            "Epoch [3/5], Step [5625/5625], Loss: 0.0097\n",
            "5000 4284\n",
            "Accuracy of the network on the 5000 validation images: 85.68 %\n",
            "Epoch [4/5], Step [5625/5625], Loss: 0.0065\n",
            "5000 4289\n",
            "Accuracy of the network on the 5000 validation images: 85.78 %\n",
            "Epoch [5/5], Step [5625/5625], Loss: 0.0103\n",
            "5000 4305\n",
            "Accuracy of the network on the 5000 validation images: 86.1 %\n"
          ]
        }
      ]
    },
    {
      "cell_type": "code",
      "source": [
        "train(best_model, 5, 0.000000001)"
      ],
      "metadata": {
        "colab": {
          "base_uri": "https://localhost:8080/"
        },
        "id": "Qk9yzWDmkAly",
        "outputId": "a1aa797d-d1b8-417b-bca4-bf4e7b71c506"
      },
      "execution_count": 37,
      "outputs": [
        {
          "output_type": "stream",
          "name": "stdout",
          "text": [
            "Epoch [1/5], Step [5625/5625], Loss: 0.0095\n",
            "5000 4307\n",
            "Accuracy of the network on the 5000 validation images: 86.14 %\n",
            "Epoch [2/5], Step [5625/5625], Loss: 0.0161\n",
            "5000 4291\n",
            "Accuracy of the network on the 5000 validation images: 85.82 %\n",
            "Epoch [3/5], Step [5625/5625], Loss: 0.0117\n",
            "5000 4314\n",
            "Accuracy of the network on the 5000 validation images: 86.28 %\n",
            "Epoch [4/5], Step [5625/5625], Loss: 0.0088\n",
            "5000 4285\n",
            "Accuracy of the network on the 5000 validation images: 85.7 %\n",
            "Epoch [5/5], Step [5625/5625], Loss: 0.0006\n",
            "5000 4292\n",
            "Accuracy of the network on the 5000 validation images: 85.84 %\n"
          ]
        }
      ]
    },
    {
      "cell_type": "code",
      "source": [
        "check(best_model)"
      ],
      "metadata": {
        "colab": {
          "base_uri": "https://localhost:8080/"
        },
        "id": "bu583bnzlZfG",
        "outputId": "25d99ac3-9833-46d8-a30d-c9576ec4909e"
      },
      "execution_count": 38,
      "outputs": [
        {
          "output_type": "stream",
          "name": "stdout",
          "text": [
            "Accuracy of the network on the 10000 test images: 86.02 %\n"
          ]
        }
      ]
    },
    {
      "cell_type": "markdown",
      "source": [
        "Эх, уперлись в потолок(( Дальше надо менять слои"
      ],
      "metadata": {
        "id": "R8jF3xJMlt1I"
      }
    }
  ],
  "metadata": {
    "accelerator": "GPU",
    "colab": {
      "gpuType": "T4",
      "provenance": []
    },
    "kernelspec": {
      "display_name": "Python 3",
      "name": "python3"
    },
    "language_info": {
      "name": "python"
    }
  },
  "nbformat": 4,
  "nbformat_minor": 0
}
